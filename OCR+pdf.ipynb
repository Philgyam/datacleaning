{
 "cells": [
  {
   "cell_type": "code",
   "execution_count": 12,
   "id": "dcc4c1a8",
   "metadata": {},
   "outputs": [],
   "source": [
    "import easyocr\n",
    "from matplotlib import pyplot as plt\n",
    "import cv2\n",
    "import numpy"
   ]
  },
  {
   "cell_type": "code",
   "execution_count": null,
   "id": "2e1e3bb8",
   "metadata": {},
   "outputs": [
    {
     "name": "stderr",
     "output_type": "stream",
     "text": [
      "Using CPU. Note: This module is much faster with a GPU.\n",
      "c:\\Users\\PhilemonGyamfi\\AppData\\Local\\Programs\\Python\\Python313\\Lib\\site-packages\\torch\\utils\\data\\dataloader.py:666: UserWarning: 'pin_memory' argument is set as true but no accelerator is found, then device pinned memory won't be used.\n",
      "  warnings.warn(warn_msg)\n"
     ]
    },
    {
     "name": "stdout",
     "output_type": "stream",
     "text": [
      "Lorem Ipsum is simply dummy text of the printing and typesetting industry: Lorem Ipsum has been the industry  standard dummy text ever since the 1500s when an unknown printer took galley of type and scrambled it to make type specimen book: It has survived not only five centuries but also the leap into ectronic typesetting remaining essentially unchanged. Contrary to popular belief; Lorem Ipsum is not simply random text: It has roots in a piece of classica Latin literature from 45 BC, making it over 2OO0 years old. Richard McClintock; Latin professor at Hampden-Sydney College in Virginia ooked up one of the more obscure Latin words, consectetur; from Lorem Ipsum passage, and going through the cites of the word in classical literature discovered the undoubtable source\n"
     ]
    },
    {
     "ename": "",
     "evalue": "",
     "output_type": "error",
     "traceback": [
      "\u001b[1;31mThe Kernel crashed while executing code in the current cell or a previous cell. \n",
      "\u001b[1;31mPlease review the code in the cell(s) to identify a possible cause of the failure. \n",
      "\u001b[1;31mClick <a href='https://aka.ms/vscodeJupyterKernelCrash'>here</a> for more info. \n",
      "\u001b[1;31mView Jupyter <a href='command:jupyter.viewOutput'>log</a> for further details."
     ]
    }
   ],
   "source": [
    "import re\n",
    "\n",
    "# Path to your image\n",
    "imagePath = 'ocrTest.png'\n",
    "\n",
    "# Initialize EasyOCR reader\n",
    "reader = easyocr.Reader(['en'], gpu=False)\n",
    "\n",
    "# Perform OCR\n",
    "result = reader.readtext(imagePath)\n",
    "\n",
    "texts = [item[1] for item in result]\n",
    "\n",
    "raw_text = \" \".join(texts)\n",
    "\n",
    "def clean_text(text):\n",
    "    text = re.sub(r'\\s+', ' ', text)\n",
    "    text = re.sub(r'[^a-zA-Z0-9.,;:()\\- ]', '', text)\n",
    "    return text.strip()\n",
    "\n",
    "cleaned_text = clean_text(raw_text)\n",
    "\n",
    "print(cleaned_text)\n"
   ]
  }
 ],
 "metadata": {
  "kernelspec": {
   "display_name": "Python 3",
   "language": "python",
   "name": "python3"
  },
  "language_info": {
   "codemirror_mode": {
    "name": "ipython",
    "version": 3
   },
   "file_extension": ".py",
   "mimetype": "text/x-python",
   "name": "python",
   "nbconvert_exporter": "python",
   "pygments_lexer": "ipython3",
   "version": "3.13.7"
  }
 },
 "nbformat": 4,
 "nbformat_minor": 5
}
