{
 "cells": [
  {
   "cell_type": "code",
   "execution_count": 11,
   "id": "b6647c9a",
   "metadata": {},
   "outputs": [],
   "source": [
    "#HeLLO welcome to my legal assistant\n",
    "# If you want to run the the model training process\n",
    "\n",
    "# recommended : run cells one after the other to track progress, or run click run all to run entire notebook.\n",
    "# Running entire note book if you are using a cpu might be slower to see result"
   ]
  },
  {
   "cell_type": "code",
   "execution_count": 12,
   "id": "16ea4b66",
   "metadata": {},
   "outputs": [],
   "source": [
    "#loading datasets\n",
    "# datasets merged into one called merged_contracts.csv"
   ]
  },
  {
   "cell_type": "code",
   "execution_count": 13,
   "id": "0a5d4976",
   "metadata": {},
   "outputs": [
    {
     "name": "stdout",
     "output_type": "stream",
     "text": [
      "Reading: ../datacleaning/datasets/employment/emp1.json\n",
      "Reading: ../datacleaning/datasets/NDA/NDA1.json\n",
      "Reading: ../datacleaning/datasets/Partnership/part1.json\n",
      "Reading: ../datacleaning/datasets/SLA/SLA1.json\n",
      "Reading: ../datacleaning/datasets/VEND/vendor1.json\n"
     ]
    }
   ],
   "source": [
    "import json\n",
    "import os\n",
    "import pandas as pd\n",
    "\n",
    "file_paths = [\n",
    "    \"../datacleaning/datasets/employment/emp1.json\",\n",
    "    \"../datacleaning/datasets/NDA/NDA1.json\",\n",
    "    \"../datacleaning/datasets/Partnership/part1.json\",\n",
    "    \"../datacleaning/datasets/SLA/SLA1.json\",\n",
    "    \"../datacleaning/datasets/VEND/vendor1.json\",\n",
    "]\n",
    "\n",
    "all_data = []\n",
    "for path in file_paths:\n",
    "    print(f\"Reading: {path}\")\n",
    "    if not os.path.exists(path):\n",
    "        print(\" File not found!\")\n",
    "        continue\n",
    "    with open(path, \"r\", encoding=\"utf-8\") as f:\n",
    "        try:\n",
    "            data = json.load(f)\n",
    "            if isinstance(data, list):\n",
    "                all_data.extend(data)\n",
    "            else:\n",
    "                all_data.append(data)\n",
    "        except json.JSONDecodeError:\n",
    "            print(\"⚠️ Bad JSON file skipped.\")\n",
    "            continue\n",
    "\n",
    "df = pd.DataFrame(all_data)\n",
    "if not {\"text\", \"label\"}.issubset(df.columns):\n",
    "    raise ValueError(f\"Missing required columns! Found: {df.columns.tolist()}\")\n",
    "\n",
    "# Save to CSV\n",
    "df.to_csv(\"merged_contracts.csv\", index=False, encoding=\"utf-8\")\n",
    "\n",
    "\n",
    "\n"
   ]
  },
  {
   "cell_type": "code",
   "execution_count": 14,
   "id": "8643ce80",
   "metadata": {},
   "outputs": [],
   "source": [
    "#data cleaning done here. Stripping off characters done here, including white spaces\n",
    "# saved into merged_contracts_cleaned.csv"
   ]
  },
  {
   "cell_type": "code",
   "execution_count": 15,
   "id": "ccdb300b",
   "metadata": {},
   "outputs": [
    {
     "name": "stdout",
     "output_type": "stream",
     "text": [
      "✅ Cleaned data saved to merged_contracts_cleaned.csv\n"
     ]
    }
   ],
   "source": [
    "df = df.dropna(subset=[\"text\", \"label\"])\n",
    "df = df[df[\"text\"].str.strip() != \"\"]\n",
    "\n",
    "df[\"text\"] = df[\"text\"].str.strip()\n",
    "df[\"label\"] = df[\"label\"].str.strip()\n",
    "\n",
    "df = df[[\"text\", \"label\"]]\n",
    "\n",
    "df.to_csv(\"merged_contracts_cleaned.csv\", index=False, encoding=\"utf-8\")\n",
    "print(\"✅ Cleaned data saved to merged_contracts_cleaned.csv\")\n",
    "\n",
    "\n",
    "\n",
    "\n"
   ]
  },
  {
   "cell_type": "code",
   "execution_count": 16,
   "id": "610cdf0c",
   "metadata": {},
   "outputs": [],
   "source": [
    "# Data exploration done here, to keep labels more accurate, labels are setup properly here \n",
    "# eg. SLA and sla might be read as two seperate labels, mapping them is very important\n",
    "\n",
    "#when you ran df[\"label\"].unique(), you might see this issue if its in your data set"
   ]
  },
  {
   "cell_type": "code",
   "execution_count": 17,
   "id": "853e1153",
   "metadata": {},
   "outputs": [
    {
     "data": {
      "text/plain": [
       "array(['Employment', 'Non-disclosure Agreement', 'Partnership', 'SLA',\n",
       "       'Vendor'], dtype=object)"
      ]
     },
     "execution_count": 17,
     "metadata": {},
     "output_type": "execute_result"
    }
   ],
   "source": [
    "import pandas as pd\n",
    "\n",
    "df = pd.read_csv(\"../datacleaning/merged_contracts_cleaned.csv\")\n",
    "\n",
    "label_mapping = {\n",
    "    \"NDA\": \"Non-disclosure Agreement\",\n",
    "    \"Non-disclosure\": \"Non-disclosure Agreement\",\n",
    "    \"Confidentiality Agreement\": \"Non-disclosure Agreement\",\n",
    "    \"Non-Disclosure Agreement\":\"Non-disclosure Agreement\",\n",
    "    \"employment contract\": \"Employment\",\n",
    "    \"partnership agreement\": \"Partnership\",\n",
    "    \"service level agreement\": \"SLA\",\n",
    "    \"vendor agreement\": \"Vendor\"\n",
    "}\n",
    "\n",
    "df[\"label\"] = df[\"label\"].replace(label_mapping)\n",
    "\n",
    "df.to_csv(\"contracts_clean.csv\", index=False)\n",
    "\n",
    "df[\"label\"].unique()\n",
    "\n",
    "\n"
   ]
  },
  {
   "cell_type": "code",
   "execution_count": 18,
   "id": "3d0158c9",
   "metadata": {},
   "outputs": [],
   "source": [
    "# dataset splitting done here\n",
    "# into train, test and validation. using all your dataset to train means you would need some other to test and validate\n",
    "# dont train model and test by same dataset used in training"
   ]
  },
  {
   "cell_type": "code",
   "execution_count": 19,
   "id": "0b40d641",
   "metadata": {},
   "outputs": [
    {
     "name": "stdout",
     "output_type": "stream",
     "text": [
      "✅ Done! Dataset split into:\n",
      "Train: 234\n",
      "Validation: 50\n",
      "Test: 51\n"
     ]
    }
   ],
   "source": [
    "from sklearn.model_selection import train_test_split\n",
    "import pandas as pd\n",
    "\n",
    "# Load your cleaned dataset\n",
    "df = pd.read_csv(\"../datacleaning/contracts_clean.csv\")\n",
    "\n",
    "# Split into train + temp\n",
    "train_df, temp_df = train_test_split(df, test_size=0.3, stratify=df['label'], random_state=42)\n",
    "\n",
    "# Split temp into validation + test\n",
    "val_df, test_df = train_test_split(temp_df, test_size=0.5, stratify=temp_df['label'], random_state=42)\n",
    "\n",
    "# Save splits\n",
    "train_df.to_csv(\"train.csv\", index=False)\n",
    "val_df.to_csv(\"val.csv\", index=False)\n",
    "test_df.to_csv(\"test.csv\", index=False)\n",
    "\n",
    "print(\"✅ Done! Dataset split into:\")\n",
    "print(\"Train:\", len(train_df))\n",
    "print(\"Validation:\", len(val_df))\n",
    "print(\"Test:\", len(test_df))\n"
   ]
  },
  {
   "cell_type": "code",
   "execution_count": 20,
   "id": "43f6a1a3",
   "metadata": {},
   "outputs": [],
   "source": [
    "# Label encoding\n",
    "# Label encoding helps us assign cone values sort of to the classes or the label\n",
    "# the labels is the type of document or contract in our case"
   ]
  },
  {
   "cell_type": "code",
   "execution_count": 21,
   "id": "12961ef5",
   "metadata": {},
   "outputs": [],
   "source": [
    "from sklearn.preprocessing import LabelEncoder\n",
    "\n",
    "le = LabelEncoder()\n",
    "train_labels = le.fit_transform(train_df['label'])\n",
    "val_labels = le.transform(val_df['label'])\n",
    "test_labels = le.transform(test_df['label'])\n",
    "\n"
   ]
  },
  {
   "cell_type": "code",
   "execution_count": 22,
   "id": "48b03348",
   "metadata": {},
   "outputs": [],
   "source": [
    "# tokenizing datasets into numbers"
   ]
  },
  {
   "cell_type": "code",
   "execution_count": 23,
   "id": "70372624",
   "metadata": {},
   "outputs": [],
   "source": [
    "# Step 1: Import the tokenizer\n",
    "from transformers import AutoTokenizer\n",
    "\n",
    "model_name = \"nlpaueb/legal-bert-base-uncased\" \n",
    "\n",
    "tokenizer = AutoTokenizer.from_pretrained(model_name)\n",
    "\n",
    "# Step 3: Now encode your texts\n",
    "train_encodings = tokenizer(list(train_df['text']), truncation=True, padding=True, max_length=512, return_tensors=\"pt\")\n",
    "val_encodings = tokenizer(list(val_df['text']), truncation=True, padding=True, max_length=512, return_tensors=\"pt\")\n",
    "test_encodings = tokenizer(list(test_df['text']), truncation=True, padding=True, max_length=512, return_tensors=\"pt\")"
   ]
  },
  {
   "cell_type": "code",
   "execution_count": 24,
   "id": "6df8ddf6",
   "metadata": {},
   "outputs": [],
   "source": [
    "import torch\n",
    "from torch.utils.data import Dataset\n",
    "\n",
    "class ContractDataset(Dataset):\n",
    "    def __init__(self, encodings, labels):\n",
    "        self.encodings = encodings\n",
    "        self.labels = labels  \n",
    "\n",
    "    def __len__(self):\n",
    "        return len(self.labels)\n",
    "\n",
    "    def __getitem__(self, idx):\n",
    "     \n",
    "        item = {key: torch.tensor(val[idx]) for key, val in self.encodings.items()}\n",
    "        item['labels'] = torch.tensor(self.labels[idx], dtype=torch.long)\n",
    "        return item\n",
    "\n"
   ]
  },
  {
   "cell_type": "code",
   "execution_count": 25,
   "id": "cddd6ffb",
   "metadata": {},
   "outputs": [],
   "source": [
    "train_dataset = ContractDataset(train_encodings, train_labels)\n",
    "val_dataset = ContractDataset(val_encodings, val_labels)\n",
    "test_dataset = ContractDataset(test_encodings, test_labels)\n",
    "\n"
   ]
  },
  {
   "cell_type": "code",
   "execution_count": 26,
   "id": "2ae30528",
   "metadata": {},
   "outputs": [
    {
     "name": "stdout",
     "output_type": "stream",
     "text": [
      "dict_keys(['input_ids', 'token_type_ids', 'attention_mask', 'labels'])\n",
      "torch.Size([4, 512])\n",
      "tensor([3, 3, 3, 3])\n"
     ]
    },
    {
     "name": "stderr",
     "output_type": "stream",
     "text": [
      "C:\\Users\\PhilemonGyamfi\\AppData\\Local\\Temp\\ipykernel_70932\\4283650326.py:14: UserWarning: To copy construct from a tensor, it is recommended to use sourceTensor.detach().clone() or sourceTensor.detach().clone().requires_grad_(True), rather than torch.tensor(sourceTensor).\n",
      "  item = {key: torch.tensor(val[idx]) for key, val in self.encodings.items()}\n"
     ]
    }
   ],
   "source": [
    "from torch.utils.data import DataLoader\n",
    "\n",
    "batch_size = 4  \n",
    "\n",
    "train_loader = DataLoader(train_dataset, batch_size=batch_size, shuffle=True)\n",
    "val_loader = DataLoader(val_dataset, batch_size=batch_size)\n",
    "test_loader = DataLoader(test_dataset, batch_size=batch_size)\n",
    "\n",
    "batch = next(iter(train_loader))\n",
    "print(batch.keys())           # dict_keys(['input_ids', 'attention_mask', 'labels'])\n",
    "print(batch['input_ids'].shape)  # e.g., torch.Size([4, 512])\n",
    "print(batch['labels'])           # e.g., tensor([0, 1, 2, 0])\n",
    "\n",
    "\n"
   ]
  },
  {
   "cell_type": "code",
   "execution_count": 27,
   "id": "49b1984a",
   "metadata": {},
   "outputs": [],
   "source": [
    "# loading raw legal bert model to start fine tuning\n",
    "# running this cell for the first time might take a while, internet speed is a dependency here\n",
    "# the model downloads on first run "
   ]
  },
  {
   "cell_type": "code",
   "execution_count": 28,
   "id": "b5c24a40",
   "metadata": {},
   "outputs": [
    {
     "name": "stderr",
     "output_type": "stream",
     "text": [
      "Some weights of BertForSequenceClassification were not initialized from the model checkpoint at nlpaueb/legal-bert-base-uncased and are newly initialized: ['classifier.bias', 'classifier.weight']\n",
      "You should probably TRAIN this model on a down-stream task to be able to use it for predictions and inference.\n"
     ]
    }
   ],
   "source": [
    "import torch\n",
    "from torch.optim import AdamW  # ✅ correct import\n",
    "from transformers import AutoModelForSequenceClassification\n",
    "\n",
    "num_labels = len(le.classes_)\n",
    "\n",
    "model = AutoModelForSequenceClassification.from_pretrained(\n",
    "    \"nlpaueb/legal-bert-base-uncased\",\n",
    "    num_labels=num_labels\n",
    ")\n",
    "\n",
    "device = torch.device(\"cuda\" if torch.cuda.is_available() else \"cpu\")\n",
    "model.to(device)\n",
    "\n",
    "optimizer = AdamW(model.parameters(), lr=5e-5)  # ✅ now it works\n"
   ]
  },
  {
   "cell_type": "code",
   "execution_count": 29,
   "id": "bdb060d4",
   "metadata": {},
   "outputs": [
    {
     "name": "stderr",
     "output_type": "stream",
     "text": [
      "C:\\Users\\PhilemonGyamfi\\AppData\\Local\\Temp\\ipykernel_70932\\4283650326.py:14: UserWarning: To copy construct from a tensor, it is recommended to use sourceTensor.detach().clone() or sourceTensor.detach().clone().requires_grad_(True), rather than torch.tensor(sourceTensor).\n",
      "  item = {key: torch.tensor(val[idx]) for key, val in self.encodings.items()}\n"
     ]
    },
    {
     "ename": "KeyboardInterrupt",
     "evalue": "",
     "output_type": "error",
     "traceback": [
      "\u001b[31m---------------------------------------------------------------------------\u001b[39m",
      "\u001b[31mKeyboardInterrupt\u001b[39m                         Traceback (most recent call last)",
      "\u001b[36mCell\u001b[39m\u001b[36m \u001b[39m\u001b[32mIn[29]\u001b[39m\u001b[32m, line 5\u001b[39m\n\u001b[32m      1\u001b[39m \u001b[38;5;28;01mimport\u001b[39;00m\u001b[38;5;250m \u001b[39m\u001b[34;01mtorch\u001b[39;00m\u001b[34;01m.\u001b[39;00m\u001b[34;01mnn\u001b[39;00m\u001b[38;5;250m \u001b[39m\u001b[38;5;28;01mas\u001b[39;00m\u001b[38;5;250m \u001b[39m\u001b[34;01mnn\u001b[39;00m\n\u001b[32m      3\u001b[39m loss_fn = nn.CrossEntropyLoss()\n\u001b[32m----> \u001b[39m\u001b[32m5\u001b[39m \u001b[38;5;28;43;01mfor\u001b[39;49;00m\u001b[43m \u001b[49m\u001b[43mbatch\u001b[49m\u001b[43m \u001b[49m\u001b[38;5;129;43;01min\u001b[39;49;00m\u001b[43m \u001b[49m\u001b[43mtrain_loader\u001b[49m\u001b[43m:\u001b[49m\n\u001b[32m      6\u001b[39m \u001b[43m    \u001b[49m\u001b[43minput_ids\u001b[49m\u001b[43m \u001b[49m\u001b[43m=\u001b[49m\u001b[43m \u001b[49m\u001b[43mbatch\u001b[49m\u001b[43m[\u001b[49m\u001b[33;43m'\u001b[39;49m\u001b[33;43minput_ids\u001b[39;49m\u001b[33;43m'\u001b[39;49m\u001b[43m]\u001b[49m\u001b[43m.\u001b[49m\u001b[43mto\u001b[49m\u001b[43m(\u001b[49m\u001b[43mdevice\u001b[49m\u001b[43m)\u001b[49m\n\u001b[32m      7\u001b[39m \u001b[43m    \u001b[49m\u001b[43mattention_mask\u001b[49m\u001b[43m \u001b[49m\u001b[43m=\u001b[49m\u001b[43m \u001b[49m\u001b[43mbatch\u001b[49m\u001b[43m[\u001b[49m\u001b[33;43m'\u001b[39;49m\u001b[33;43mattention_mask\u001b[39;49m\u001b[33;43m'\u001b[39;49m\u001b[43m]\u001b[49m\u001b[43m.\u001b[49m\u001b[43mto\u001b[49m\u001b[43m(\u001b[49m\u001b[43mdevice\u001b[49m\u001b[43m)\u001b[49m\n",
      "\u001b[36mFile \u001b[39m\u001b[32mc:\\Users\\PhilemonGyamfi\\AppData\\Local\\Programs\\Python\\Python313\\Lib\\site-packages\\torch\\utils\\data\\dataloader.py:734\u001b[39m, in \u001b[36m_BaseDataLoaderIter.__next__\u001b[39m\u001b[34m(self)\u001b[39m\n\u001b[32m    731\u001b[39m \u001b[38;5;28;01mif\u001b[39;00m \u001b[38;5;28mself\u001b[39m._sampler_iter \u001b[38;5;129;01mis\u001b[39;00m \u001b[38;5;28;01mNone\u001b[39;00m:\n\u001b[32m    732\u001b[39m     \u001b[38;5;66;03m# TODO(https://github.com/pytorch/pytorch/issues/76750)\u001b[39;00m\n\u001b[32m    733\u001b[39m     \u001b[38;5;28mself\u001b[39m._reset()  \u001b[38;5;66;03m# type: ignore[call-arg]\u001b[39;00m\n\u001b[32m--> \u001b[39m\u001b[32m734\u001b[39m data = \u001b[38;5;28;43mself\u001b[39;49m\u001b[43m.\u001b[49m\u001b[43m_next_data\u001b[49m\u001b[43m(\u001b[49m\u001b[43m)\u001b[49m\n\u001b[32m    735\u001b[39m \u001b[38;5;28mself\u001b[39m._num_yielded += \u001b[32m1\u001b[39m\n\u001b[32m    736\u001b[39m \u001b[38;5;28;01mif\u001b[39;00m (\n\u001b[32m    737\u001b[39m     \u001b[38;5;28mself\u001b[39m._dataset_kind == _DatasetKind.Iterable\n\u001b[32m    738\u001b[39m     \u001b[38;5;129;01mand\u001b[39;00m \u001b[38;5;28mself\u001b[39m._IterableDataset_len_called \u001b[38;5;129;01mis\u001b[39;00m \u001b[38;5;129;01mnot\u001b[39;00m \u001b[38;5;28;01mNone\u001b[39;00m\n\u001b[32m    739\u001b[39m     \u001b[38;5;129;01mand\u001b[39;00m \u001b[38;5;28mself\u001b[39m._num_yielded > \u001b[38;5;28mself\u001b[39m._IterableDataset_len_called\n\u001b[32m    740\u001b[39m ):\n",
      "\u001b[36mFile \u001b[39m\u001b[32mc:\\Users\\PhilemonGyamfi\\AppData\\Local\\Programs\\Python\\Python313\\Lib\\site-packages\\torch\\utils\\data\\dataloader.py:790\u001b[39m, in \u001b[36m_SingleProcessDataLoaderIter._next_data\u001b[39m\u001b[34m(self)\u001b[39m\n\u001b[32m    788\u001b[39m \u001b[38;5;28;01mdef\u001b[39;00m\u001b[38;5;250m \u001b[39m\u001b[34m_next_data\u001b[39m(\u001b[38;5;28mself\u001b[39m):\n\u001b[32m    789\u001b[39m     index = \u001b[38;5;28mself\u001b[39m._next_index()  \u001b[38;5;66;03m# may raise StopIteration\u001b[39;00m\n\u001b[32m--> \u001b[39m\u001b[32m790\u001b[39m     data = \u001b[38;5;28;43mself\u001b[39;49m\u001b[43m.\u001b[49m\u001b[43m_dataset_fetcher\u001b[49m\u001b[43m.\u001b[49m\u001b[43mfetch\u001b[49m\u001b[43m(\u001b[49m\u001b[43mindex\u001b[49m\u001b[43m)\u001b[49m  \u001b[38;5;66;03m# may raise StopIteration\u001b[39;00m\n\u001b[32m    791\u001b[39m     \u001b[38;5;28;01mif\u001b[39;00m \u001b[38;5;28mself\u001b[39m._pin_memory:\n\u001b[32m    792\u001b[39m         data = _utils.pin_memory.pin_memory(data, \u001b[38;5;28mself\u001b[39m._pin_memory_device)\n",
      "\u001b[36mFile \u001b[39m\u001b[32mc:\\Users\\PhilemonGyamfi\\AppData\\Local\\Programs\\Python\\Python313\\Lib\\site-packages\\torch\\utils\\data\\_utils\\fetch.py:55\u001b[39m, in \u001b[36m_MapDatasetFetcher.fetch\u001b[39m\u001b[34m(self, possibly_batched_index)\u001b[39m\n\u001b[32m     53\u001b[39m \u001b[38;5;28;01melse\u001b[39;00m:\n\u001b[32m     54\u001b[39m     data = \u001b[38;5;28mself\u001b[39m.dataset[possibly_batched_index]\n\u001b[32m---> \u001b[39m\u001b[32m55\u001b[39m \u001b[38;5;28;01mreturn\u001b[39;00m \u001b[38;5;28;43mself\u001b[39;49m\u001b[43m.\u001b[49m\u001b[43mcollate_fn\u001b[49m\u001b[43m(\u001b[49m\u001b[43mdata\u001b[49m\u001b[43m)\u001b[49m\n",
      "\u001b[36mFile \u001b[39m\u001b[32mc:\\Users\\PhilemonGyamfi\\AppData\\Local\\Programs\\Python\\Python313\\Lib\\site-packages\\torch\\utils\\data\\_utils\\collate.py:398\u001b[39m, in \u001b[36mdefault_collate\u001b[39m\u001b[34m(batch)\u001b[39m\n\u001b[32m    337\u001b[39m \u001b[38;5;28;01mdef\u001b[39;00m\u001b[38;5;250m \u001b[39m\u001b[34mdefault_collate\u001b[39m(batch):\n\u001b[32m    338\u001b[39m \u001b[38;5;250m    \u001b[39m\u001b[33mr\u001b[39m\u001b[33;03m\"\"\"\u001b[39;00m\n\u001b[32m    339\u001b[39m \u001b[33;03m    Take in a batch of data and put the elements within the batch into a tensor with an additional outer dimension - batch size.\u001b[39;00m\n\u001b[32m    340\u001b[39m \n\u001b[32m   (...)\u001b[39m\u001b[32m    396\u001b[39m \u001b[33;03m        >>> default_collate(batch)  # Handle `CustomType` automatically\u001b[39;00m\n\u001b[32m    397\u001b[39m \u001b[33;03m    \"\"\"\u001b[39;00m\n\u001b[32m--> \u001b[39m\u001b[32m398\u001b[39m     \u001b[38;5;28;01mreturn\u001b[39;00m \u001b[43mcollate\u001b[49m\u001b[43m(\u001b[49m\u001b[43mbatch\u001b[49m\u001b[43m,\u001b[49m\u001b[43m \u001b[49m\u001b[43mcollate_fn_map\u001b[49m\u001b[43m=\u001b[49m\u001b[43mdefault_collate_fn_map\u001b[49m\u001b[43m)\u001b[49m\n",
      "\u001b[36mFile \u001b[39m\u001b[32mc:\\Users\\PhilemonGyamfi\\AppData\\Local\\Programs\\Python\\Python313\\Lib\\site-packages\\torch\\utils\\data\\_utils\\collate.py:172\u001b[39m, in \u001b[36mcollate\u001b[39m\u001b[34m(batch, collate_fn_map)\u001b[39m\n\u001b[32m    165\u001b[39m \u001b[38;5;28;01mif\u001b[39;00m \u001b[38;5;28misinstance\u001b[39m(elem, collections.abc.MutableMapping):\n\u001b[32m    166\u001b[39m     \u001b[38;5;66;03m# The mapping type may have extra properties, so we can't just\u001b[39;00m\n\u001b[32m    167\u001b[39m     \u001b[38;5;66;03m# use `type(data)(...)` to create the new mapping.\u001b[39;00m\n\u001b[32m    168\u001b[39m     \u001b[38;5;66;03m# Create a clone and update it if the mapping type is mutable.\u001b[39;00m\n\u001b[32m    169\u001b[39m     clone = copy.copy(elem)\n\u001b[32m    170\u001b[39m     clone.update(\n\u001b[32m    171\u001b[39m         {\n\u001b[32m--> \u001b[39m\u001b[32m172\u001b[39m             key: \u001b[43mcollate\u001b[49m\u001b[43m(\u001b[49m\n\u001b[32m    173\u001b[39m \u001b[43m                \u001b[49m\u001b[43m[\u001b[49m\u001b[43md\u001b[49m\u001b[43m[\u001b[49m\u001b[43mkey\u001b[49m\u001b[43m]\u001b[49m\u001b[43m \u001b[49m\u001b[38;5;28;43;01mfor\u001b[39;49;00m\u001b[43m \u001b[49m\u001b[43md\u001b[49m\u001b[43m \u001b[49m\u001b[38;5;129;43;01min\u001b[39;49;00m\u001b[43m \u001b[49m\u001b[43mbatch\u001b[49m\u001b[43m]\u001b[49m\u001b[43m,\u001b[49m\u001b[43m \u001b[49m\u001b[43mcollate_fn_map\u001b[49m\u001b[43m=\u001b[49m\u001b[43mcollate_fn_map\u001b[49m\n\u001b[32m    174\u001b[39m \u001b[43m            \u001b[49m\u001b[43m)\u001b[49m\n\u001b[32m    175\u001b[39m             \u001b[38;5;28;01mfor\u001b[39;00m key \u001b[38;5;129;01min\u001b[39;00m elem\n\u001b[32m    176\u001b[39m         }\n\u001b[32m    177\u001b[39m     )\n\u001b[32m    178\u001b[39m     \u001b[38;5;28;01mreturn\u001b[39;00m clone\n\u001b[32m    179\u001b[39m \u001b[38;5;28;01melse\u001b[39;00m:\n",
      "\u001b[36mFile \u001b[39m\u001b[32mc:\\Users\\PhilemonGyamfi\\AppData\\Local\\Programs\\Python\\Python313\\Lib\\site-packages\\torch\\utils\\data\\_utils\\collate.py:155\u001b[39m, in \u001b[36mcollate\u001b[39m\u001b[34m(batch, collate_fn_map)\u001b[39m\n\u001b[32m    153\u001b[39m \u001b[38;5;28;01mif\u001b[39;00m collate_fn_map \u001b[38;5;129;01mis\u001b[39;00m \u001b[38;5;129;01mnot\u001b[39;00m \u001b[38;5;28;01mNone\u001b[39;00m:\n\u001b[32m    154\u001b[39m     \u001b[38;5;28;01mif\u001b[39;00m elem_type \u001b[38;5;129;01min\u001b[39;00m collate_fn_map:\n\u001b[32m--> \u001b[39m\u001b[32m155\u001b[39m         \u001b[38;5;28;01mreturn\u001b[39;00m \u001b[43mcollate_fn_map\u001b[49m\u001b[43m[\u001b[49m\u001b[43melem_type\u001b[49m\u001b[43m]\u001b[49m\u001b[43m(\u001b[49m\u001b[43mbatch\u001b[49m\u001b[43m,\u001b[49m\u001b[43m \u001b[49m\u001b[43mcollate_fn_map\u001b[49m\u001b[43m=\u001b[49m\u001b[43mcollate_fn_map\u001b[49m\u001b[43m)\u001b[49m\n\u001b[32m    157\u001b[39m     \u001b[38;5;28;01mfor\u001b[39;00m collate_type \u001b[38;5;129;01min\u001b[39;00m collate_fn_map:\n\u001b[32m    158\u001b[39m         \u001b[38;5;28;01mif\u001b[39;00m \u001b[38;5;28misinstance\u001b[39m(elem, collate_type):\n",
      "\u001b[36mFile \u001b[39m\u001b[32mc:\\Users\\PhilemonGyamfi\\AppData\\Local\\Programs\\Python\\Python313\\Lib\\site-packages\\torch\\utils\\data\\_utils\\collate.py:272\u001b[39m, in \u001b[36mcollate_tensor_fn\u001b[39m\u001b[34m(batch, collate_fn_map)\u001b[39m\n\u001b[32m    270\u001b[39m     storage = elem._typed_storage()._new_shared(numel, device=elem.device)\n\u001b[32m    271\u001b[39m     out = elem.new(storage).resize_(\u001b[38;5;28mlen\u001b[39m(batch), *\u001b[38;5;28mlist\u001b[39m(elem.size()))\n\u001b[32m--> \u001b[39m\u001b[32m272\u001b[39m \u001b[38;5;28;01mreturn\u001b[39;00m \u001b[43mtorch\u001b[49m\u001b[43m.\u001b[49m\u001b[43mstack\u001b[49m\u001b[43m(\u001b[49m\u001b[43mbatch\u001b[49m\u001b[43m,\u001b[49m\u001b[43m \u001b[49m\u001b[32;43m0\u001b[39;49m\u001b[43m,\u001b[49m\u001b[43m \u001b[49m\u001b[43mout\u001b[49m\u001b[43m=\u001b[49m\u001b[43mout\u001b[49m\u001b[43m)\u001b[49m\n",
      "\u001b[31mKeyboardInterrupt\u001b[39m: "
     ]
    }
   ],
   "source": [
    "import torch.nn as nn\n",
    "\n",
    "loss_fn = nn.CrossEntropyLoss()\n",
    "\n",
    "for batch in train_loader:\n",
    "    input_ids = batch['input_ids'].to(device)\n",
    "    attention_mask = batch['attention_mask'].to(device)\n",
    "    labels = batch['labels'].to(device)\n",
    "\n",
    "\n",
    "outputs = model(input_ids=input_ids, attention_mask=attention_mask)\n",
    "logits = outputs.logits\n",
    "loss = loss_fn(logits, labels)\n",
    "\n"
   ]
  },
  {
   "cell_type": "code",
   "execution_count": null,
   "id": "e03431fa",
   "metadata": {},
   "outputs": [],
   "source": [
    "optimizer.zero_grad()   # clear previous gradients\n",
    "loss.backward()         # compute new gradients\n",
    "optimizer.step()        # update model weights\n"
   ]
  },
  {
   "cell_type": "code",
   "execution_count": null,
   "id": "a026079d",
   "metadata": {},
   "outputs": [
    {
     "data": {
      "text/plain": [
       "BertForSequenceClassification(\n",
       "  (bert): BertModel(\n",
       "    (embeddings): BertEmbeddings(\n",
       "      (word_embeddings): Embedding(30522, 768, padding_idx=0)\n",
       "      (position_embeddings): Embedding(512, 768)\n",
       "      (token_type_embeddings): Embedding(2, 768)\n",
       "      (LayerNorm): LayerNorm((768,), eps=1e-12, elementwise_affine=True)\n",
       "      (dropout): Dropout(p=0.1, inplace=False)\n",
       "    )\n",
       "    (encoder): BertEncoder(\n",
       "      (layer): ModuleList(\n",
       "        (0-11): 12 x BertLayer(\n",
       "          (attention): BertAttention(\n",
       "            (self): BertSdpaSelfAttention(\n",
       "              (query): Linear(in_features=768, out_features=768, bias=True)\n",
       "              (key): Linear(in_features=768, out_features=768, bias=True)\n",
       "              (value): Linear(in_features=768, out_features=768, bias=True)\n",
       "              (dropout): Dropout(p=0.1, inplace=False)\n",
       "            )\n",
       "            (output): BertSelfOutput(\n",
       "              (dense): Linear(in_features=768, out_features=768, bias=True)\n",
       "              (LayerNorm): LayerNorm((768,), eps=1e-12, elementwise_affine=True)\n",
       "              (dropout): Dropout(p=0.1, inplace=False)\n",
       "            )\n",
       "          )\n",
       "          (intermediate): BertIntermediate(\n",
       "            (dense): Linear(in_features=768, out_features=3072, bias=True)\n",
       "            (intermediate_act_fn): GELUActivation()\n",
       "          )\n",
       "          (output): BertOutput(\n",
       "            (dense): Linear(in_features=3072, out_features=768, bias=True)\n",
       "            (LayerNorm): LayerNorm((768,), eps=1e-12, elementwise_affine=True)\n",
       "            (dropout): Dropout(p=0.1, inplace=False)\n",
       "          )\n",
       "        )\n",
       "      )\n",
       "    )\n",
       "    (pooler): BertPooler(\n",
       "      (dense): Linear(in_features=768, out_features=768, bias=True)\n",
       "      (activation): Tanh()\n",
       "    )\n",
       "  )\n",
       "  (dropout): Dropout(p=0.1, inplace=False)\n",
       "  (classifier): Linear(in_features=768, out_features=5, bias=True)\n",
       ")"
      ]
     },
     "execution_count": 49,
     "metadata": {},
     "output_type": "execute_result"
    }
   ],
   "source": [
    "model.train()\n"
   ]
  },
  {
   "cell_type": "code",
   "execution_count": null,
   "id": "7293c642",
   "metadata": {},
   "outputs": [
    {
     "name": "stdout",
     "output_type": "stream",
     "text": [
      "Epoch 1/3, Loss: 1.2480\n",
      "Epoch 2/3, Loss: 0.2518\n",
      "Epoch 3/3, Loss: 0.1191\n"
     ]
    }
   ],
   "source": [
    "epochs = 3  # or more depending on dataset size\n",
    "\n",
    "for epoch in range(epochs):\n",
    "    total_loss = 0\n",
    "    for batch in train_loader:\n",
    "        # Move batch to device\n",
    "        input_ids = batch['input_ids'].to(device)\n",
    "        attention_mask = batch['attention_mask'].to(device)\n",
    "        labels = batch['labels'].to(device)\n",
    "\n",
    "        # Forward pass\n",
    "        outputs = model(input_ids=input_ids, attention_mask=attention_mask)\n",
    "        logits = outputs.logits\n",
    "\n",
    "        # Compute loss\n",
    "        loss = loss_fn(logits, labels)\n",
    "        total_loss += loss.item()\n",
    "\n",
    "        # Backward pass\n",
    "        optimizer.zero_grad()\n",
    "        loss.backward()\n",
    "        optimizer.step()\n",
    "\n",
    "    print(f\"Epoch {epoch+1}/{epochs}, Loss: {total_loss/len(train_loader):.4f}\")\n"
   ]
  },
  {
   "cell_type": "code",
   "execution_count": null,
   "id": "ab8a91d1",
   "metadata": {},
   "outputs": [
    {
     "data": {
      "text/plain": [
       "('legalbert-contracts\\\\tokenizer_config.json',\n",
       " 'legalbert-contracts\\\\special_tokens_map.json',\n",
       " 'legalbert-contracts\\\\vocab.txt',\n",
       " 'legalbert-contracts\\\\added_tokens.json',\n",
       " 'legalbert-contracts\\\\tokenizer.json')"
      ]
     },
     "execution_count": 122,
     "metadata": {},
     "output_type": "execute_result"
    }
   ],
   "source": [
    "model.save_pretrained(\"legalbert-contracts\")\n",
    "tokenizer.save_pretrained(\"legalbert-contracts\")\n"
   ]
  },
  {
   "cell_type": "code",
   "execution_count": null,
   "id": "7ea7d3a2",
   "metadata": {},
   "outputs": [
    {
     "name": "stderr",
     "output_type": "stream",
     "text": [
      "C:\\Users\\PhilemonGyamfi\\AppData\\Local\\Temp\\ipykernel_68296\\709338502.py:14: UserWarning: To copy construct from a tensor, it is recommended to use sourceTensor.detach().clone() or sourceTensor.detach().clone().requires_grad_(True), rather than torch.tensor(sourceTensor).\n",
      "  item = {key: torch.tensor(val[idx]) for key, val in self.encodings.items()}\n"
     ]
    },
    {
     "name": "stdout",
     "output_type": "stream",
     "text": [
      "Test Accuracy: 0.2353\n"
     ]
    },
    {
     "ename": "",
     "evalue": "",
     "output_type": "error",
     "traceback": [
      "\u001b[1;31mThe Kernel crashed while executing code in the current cell or a previous cell. \n",
      "\u001b[1;31mPlease review the code in the cell(s) to identify a possible cause of the failure. \n",
      "\u001b[1;31mClick <a href='https://aka.ms/vscodeJupyterKernelCrash'>here</a> for more info. \n",
      "\u001b[1;31mView Jupyter <a href='command:jupyter.viewOutput'>log</a> for further details."
     ]
    }
   ],
   "source": [
    "model.eval()\n",
    "correct = 0\n",
    "total = 0\n",
    "\n",
    "with torch.no_grad():\n",
    "    for batch in test_loader:\n",
    "        input_ids = batch['input_ids'].to(device)\n",
    "        attention_mask = batch['attention_mask'].to(device)\n",
    "        labels = batch['labels'].to(device)\n",
    "\n",
    "        logits = model(input_ids=input_ids, attention_mask=attention_mask).logits\n",
    "        preds = torch.argmax(logits, dim=1)\n",
    "        correct += (preds == labels).sum().item()\n",
    "        total += labels.size(0)\n",
    "\n",
    "print(f\"Test Accuracy: {correct/total:.4f}\")\n",
    "\n"
   ]
  },
  {
   "cell_type": "code",
   "execution_count": 58,
   "id": "cf4b1a78",
   "metadata": {},
   "outputs": [
    {
     "name": "stdout",
     "output_type": "stream",
     "text": [
      "✅ Predictions saved to test_predictions.csv\n",
      "✅ LabelEncoder saved as le.pkl\n"
     ]
    }
   ],
   "source": [
    "import torch\n",
    "from transformers import AutoModelForSequenceClassification, AutoTokenizer\n",
    "import pandas as pd\n",
    "from sklearn.preprocessing import LabelEncoder\n",
    "import pickle\n",
    "\n",
    "\n",
    "model = AutoModelForSequenceClassification.from_pretrained(\"../datacleaning/legalbert-contracts\")\n",
    "tokenizer = AutoTokenizer.from_pretrained(\"../datacleaning/legalbert-contracts\")\n",
    "model.eval()\n",
    "\n",
    "# Load your test dataset\n",
    "test_df = pd.read_csv(\"test.csv\")\n",
    "\n",
    "# Encode labels if not already\n",
    "le = LabelEncoder()\n",
    "le.fit(test_df['label'])  \n",
    "y_true = le.transform(test_df['label'])\n",
    "\n",
    "# Tokenize test texts\n",
    "inputs = tokenizer(\n",
    "    test_df['text'].tolist(),\n",
    "    padding=True,\n",
    "    truncation=True,\n",
    "    max_length=512,\n",
    "    return_tensors='pt'\n",
    ")\n",
    "\n",
    "# Generate predictions\n",
    "with torch.no_grad():\n",
    "    outputs = model(**inputs)\n",
    "    logits = outputs.logits\n",
    "    y_pred = torch.argmax(logits, dim=1).numpy()\n",
    "\n",
    "# Map predicted indices back to labels\n",
    "pred_labels = le.inverse_transform(y_pred)\n",
    "\n",
    "# Save predictions\n",
    "test_df['predicted_label'] = pred_labels\n",
    "test_df.to_csv(\"test_predictions.csv\", index=False)\n",
    "print(\"✅ Predictions saved to test_predictions.csv\")\n",
    "\n",
    "\n",
    "# save encodings\n",
    "with open(\"le.pkl\", \"wb\") as f:\n",
    "    pickle.dump(le, f)\n",
    "\n",
    "print(\"✅ LabelEncoder saved as le.pkl\") \n"
   ]
  },
  {
   "cell_type": "code",
   "execution_count": null,
   "id": "795884f3",
   "metadata": {},
   "outputs": [
    {
     "name": "stdout",
     "output_type": "stream",
     "text": [
      "Accuracy: 0.9804\n",
      "Weighted F1-score: 0.9801\n",
      "\n",
      "Per-class report:\n",
      "                          precision    recall  f1-score   support\n",
      "\n",
      "              Employment       1.00      0.88      0.93         8\n",
      "Non-disclosure Agreement       1.00      1.00      1.00        10\n",
      "             Partnership       1.00      1.00      1.00         8\n",
      "                     SLA       1.00      1.00      1.00        13\n",
      "                  Vendor       0.92      1.00      0.96        12\n",
      "\n",
      "                accuracy                           0.98        51\n",
      "               macro avg       0.98      0.97      0.98        51\n",
      "            weighted avg       0.98      0.98      0.98        51\n",
      "\n"
     ]
    }
   ],
   "source": [
    "from sklearn.metrics import accuracy_score, f1_score, classification_report\n",
    "\n",
    "accuracy = accuracy_score(y_true, y_pred)\n",
    "f1 = f1_score(y_true, y_pred, average='weighted')  # handles imbalanced classes\n",
    "\n",
    "print(f\"Accuracy: {accuracy:.4f}\")\n",
    "print(f\"Weighted F1-score: {f1:.4f}\")\n",
    "\n",
    "print(\"\\nPer-class report:\")\n",
    "print(classification_report(y_true, y_pred, target_names=le.classes_))\n"
   ]
  },
  {
   "cell_type": "code",
   "execution_count": null,
   "id": "3cd97696",
   "metadata": {},
   "outputs": [
    {
     "data": {
      "image/png": "[encoded data removed]",
      "text/plain": [
       "<Figure size 640x480 with 2 Axes>"
      ]
     },
     "metadata": {},
     "output_type": "display_data"
    }
   ],
   "source": [
    "from sklearn.metrics import confusion_matrix\n",
    "import seaborn as sns\n",
    "import matplotlib.pyplot as plt\n",
    "\n",
    "cm = confusion_matrix(y_true, y_pred)\n",
    "sns.heatmap(cm, annot=True, fmt='d', xticklabels=le.classes_, yticklabels=le.classes_, cmap='Blues')\n",
    "plt.xlabel(\"Predicted\")\n",
    "plt.ylabel(\"Actual\")\n",
    "plt.title(\"Confusion Matrix\")\n",
    "plt.show()\n"
   ]
  },
  {
   "cell_type": "code",
   "execution_count": 59,
   "id": "907f9a98",
   "metadata": {},
   "outputs": [
    {
     "name": "stdout",
     "output_type": "stream",
     "text": [
      "Predicted label: Partnership\n"
     ]
    }
   ],
   "source": [
    "def predict(text):\n",
    "    inputs = tokenizer(text, return_tensors=\"pt\", truncation=True, padding=True, max_length=512).to(device)\n",
    "    model.eval()\n",
    "    with torch.no_grad():\n",
    "        logits = model(**inputs).logits\n",
    "        pred_id = torch.argmax(logits, dim=1).item()\n",
    "    label = le.inverse_transform([pred_id])[0]\n",
    "    return label\n",
    "\n",
    "sample_text = \"\"\"\n",
    "\n",
    "\n",
    "GENERAL PARTNERSHIP AGREEMENT\n",
    "    This GENERAL PARTNERSHIP AGREEMENT is made and entered into as of November 5, 2024,\n",
    "    by and between Eleanor Vance and Julian Santos for operating a specialty coffee roastery and café.\n",
    "    The partners agree on capital contributions, profit sharing, and management responsibilities.\n",
    "\"\"\"\n",
    "print(\"Predicted label:\", predict(sample_text))\n"
   ]
  },
  {
   "cell_type": "code",
   "execution_count": 62,
   "id": "68a5b007",
   "metadata": {},
   "outputs": [
    {
     "name": "stdout",
     "output_type": "stream",
     "text": [
      "Collecting onnx\n",
      "  Using cached onnx-1.19.0-cp313-cp313-win_amd64.whl.metadata (7.2 kB)\n",
      "Collecting onnxruntime\n",
      "  Using cached onnxruntime-1.22.1-cp313-cp313-win_amd64.whl.metadata (5.1 kB)\n",
      "Requirement already satisfied: numpy>=1.22 in c:\\users\\philemongyamfi\\appdata\\local\\programs\\python\\python313\\lib\\site-packages (from onnx) (2.2.6)\n",
      "Collecting protobuf>=4.25.1 (from onnx)\n",
      "  Using cached protobuf-6.32.0-cp310-abi3-win_amd64.whl.metadata (593 bytes)\n",
      "Requirement already satisfied: typing_extensions>=4.7.1 in c:\\users\\philemongyamfi\\appdata\\local\\programs\\python\\python313\\lib\\site-packages (from onnx) (4.14.1)\n",
      "Collecting ml_dtypes (from onnx)\n",
      "  Using cached ml_dtypes-0.5.3-cp313-cp313-win_amd64.whl.metadata (9.2 kB)\n",
      "Collecting coloredlogs (from onnxruntime)\n",
      "  Using cached coloredlogs-15.0.1-py2.py3-none-any.whl.metadata (12 kB)\n",
      "Collecting flatbuffers (from onnxruntime)\n",
      "  Using cached flatbuffers-25.2.10-py2.py3-none-any.whl.metadata (875 bytes)\n",
      "Requirement already satisfied: packaging in c:\\users\\philemongyamfi\\appdata\\roaming\\python\\python313\\site-packages (from onnxruntime) (25.0)\n",
      "Requirement already satisfied: sympy in c:\\users\\philemongyamfi\\appdata\\local\\programs\\python\\python313\\lib\\site-packages (from onnxruntime) (1.14.0)\n",
      "Collecting humanfriendly>=9.1 (from coloredlogs->onnxruntime)\n",
      "  Using cached humanfriendly-10.0-py2.py3-none-any.whl.metadata (9.2 kB)\n",
      "Collecting pyreadline3 (from humanfriendly>=9.1->coloredlogs->onnxruntime)\n",
      "  Using cached pyreadline3-3.5.4-py3-none-any.whl.metadata (4.7 kB)\n",
      "Requirement already satisfied: mpmath<1.4,>=1.1.0 in c:\\users\\philemongyamfi\\appdata\\local\\programs\\python\\python313\\lib\\site-packages (from sympy->onnxruntime) (1.3.0)\n",
      "Using cached onnx-1.19.0-cp313-cp313-win_amd64.whl (16.5 MB)\n",
      "Using cached onnxruntime-1.22.1-cp313-cp313-win_amd64.whl (12.7 MB)\n",
      "Using cached protobuf-6.32.0-cp310-abi3-win_amd64.whl (435 kB)\n",
      "Using cached coloredlogs-15.0.1-py2.py3-none-any.whl (46 kB)\n",
      "Using cached humanfriendly-10.0-py2.py3-none-any.whl (86 kB)\n",
      "Using cached flatbuffers-25.2.10-py2.py3-none-any.whl (30 kB)\n",
      "Using cached ml_dtypes-0.5.3-cp313-cp313-win_amd64.whl (208 kB)\n",
      "Using cached pyreadline3-3.5.4-py3-none-any.whl (83 kB)\n",
      "Installing collected packages: flatbuffers, pyreadline3, protobuf, ml_dtypes, onnx, humanfriendly, coloredlogs, onnxruntime\n",
      "\n",
      "   ---------------------------------------- 0/8 [flatbuffers]\n",
      "   ---------------------------------------- 0/8 [flatbuffers]\n",
      "   ----- ---------------------------------- 1/8 [pyreadline3]\n",
      "   ----- ---------------------------------- 1/8 [pyreadline3]\n",
      "   ----- ---------------------------------- 1/8 [pyreadline3]\n",
      "   ----- ---------------------------------- 1/8 [pyreadline3]\n",
      "   ----- ---------------------------------- 1/8 [pyreadline3]\n",
      "   ----- ---------------------------------- 1/8 [pyreadline3]\n",
      "   ----- ---------------------------------- 1/8 [pyreadline3]\n",
      "   ----- ---------------------------------- 1/8 [pyreadline3]\n",
      "   ---------- ----------------------------- 2/8 [protobuf]\n",
      "   ---------- ----------------------------- 2/8 [protobuf]\n",
      "   ---------- ----------------------------- 2/8 [protobuf]\n",
      "   ---------- ----------------------------- 2/8 [protobuf]\n",
      "   ---------- ----------------------------- 2/8 [protobuf]\n",
      "   ---------- ----------------------------- 2/8 [protobuf]\n",
      "   ---------- ----------------------------- 2/8 [protobuf]\n",
      "   ---------- ----------------------------- 2/8 [protobuf]\n",
      "   ---------- ----------------------------- 2/8 [protobuf]\n",
      "   ---------- ----------------------------- 2/8 [protobuf]\n",
      "   ---------- ----------------------------- 2/8 [protobuf]\n",
      "   ---------- ----------------------------- 2/8 [protobuf]\n",
      "   ---------- ----------------------------- 2/8 [protobuf]\n",
      "   --------------- ------------------------ 3/8 [ml_dtypes]\n",
      "   -------------------- ------------------- 4/8 [onnx]\n",
      "   -------------------- ------------------- 4/8 [onnx]\n",
      "   -------------------- ------------------- 4/8 [onnx]\n",
      "   -------------------- ------------------- 4/8 [onnx]\n",
      "   -------------------- ------------------- 4/8 [onnx]\n",
      "   -------------------- ------------------- 4/8 [onnx]\n",
      "   -------------------- ------------------- 4/8 [onnx]\n",
      "   -------------------- ------------------- 4/8 [onnx]\n",
      "   -------------------- ------------------- 4/8 [onnx]\n",
      "   -------------------- ------------------- 4/8 [onnx]\n",
      "   -------------------- ------------------- 4/8 [onnx]\n",
      "   -------------------- ------------------- 4/8 [onnx]\n",
      "   -------------------- ------------------- 4/8 [onnx]\n",
      "   -------------------- ------------------- 4/8 [onnx]\n",
      "   -------------------- ------------------- 4/8 [onnx]\n",
      "   -------------------- ------------------- 4/8 [onnx]\n",
      "   -------------------- ------------------- 4/8 [onnx]\n",
      "   -------------------- ------------------- 4/8 [onnx]\n",
      "   -------------------- ------------------- 4/8 [onnx]\n",
      "   -------------------- ------------------- 4/8 [onnx]\n",
      "   -------------------- ------------------- 4/8 [onnx]\n",
      "   -------------------- ------------------- 4/8 [onnx]\n",
      "   -------------------- ------------------- 4/8 [onnx]\n",
      "   -------------------- ------------------- 4/8 [onnx]\n",
      "   -------------------- ------------------- 4/8 [onnx]\n",
      "   -------------------- ------------------- 4/8 [onnx]\n",
      "   -------------------- ------------------- 4/8 [onnx]\n",
      "   -------------------- ------------------- 4/8 [onnx]\n",
      "   -------------------- ------------------- 4/8 [onnx]\n",
      "   -------------------- ------------------- 4/8 [onnx]\n",
      "   -------------------- ------------------- 4/8 [onnx]\n",
      "   -------------------- ------------------- 4/8 [onnx]\n",
      "   -------------------- ------------------- 4/8 [onnx]\n",
      "   -------------------- ------------------- 4/8 [onnx]\n",
      "   -------------------- ------------------- 4/8 [onnx]\n",
      "   -------------------- ------------------- 4/8 [onnx]\n",
      "   -------------------- ------------------- 4/8 [onnx]\n",
      "   -------------------- ------------------- 4/8 [onnx]\n",
      "   -------------------- ------------------- 4/8 [onnx]\n",
      "   -------------------- ------------------- 4/8 [onnx]\n",
      "   -------------------- ------------------- 4/8 [onnx]\n",
      "   -------------------- ------------------- 4/8 [onnx]\n",
      "   -------------------- ------------------- 4/8 [onnx]\n",
      "   -------------------- ------------------- 4/8 [onnx]\n",
      "   -------------------- ------------------- 4/8 [onnx]\n",
      "   -------------------- ------------------- 4/8 [onnx]\n",
      "   -------------------- ------------------- 4/8 [onnx]\n",
      "   -------------------- ------------------- 4/8 [onnx]\n",
      "   -------------------- ------------------- 4/8 [onnx]\n",
      "   -------------------- ------------------- 4/8 [onnx]\n",
      "   -------------------- ------------------- 4/8 [onnx]\n",
      "   -------------------- ------------------- 4/8 [onnx]\n",
      "   -------------------- ------------------- 4/8 [onnx]\n",
      "   -------------------- ------------------- 4/8 [onnx]\n",
      "   -------------------- ------------------- 4/8 [onnx]\n",
      "   -------------------- ------------------- 4/8 [onnx]\n",
      "   -------------------- ------------------- 4/8 [onnx]\n",
      "   -------------------- ------------------- 4/8 [onnx]\n",
      "   -------------------- ------------------- 4/8 [onnx]\n",
      "   -------------------- ------------------- 4/8 [onnx]\n",
      "   -------------------- ------------------- 4/8 [onnx]\n",
      "   -------------------- ------------------- 4/8 [onnx]\n",
      "   -------------------- ------------------- 4/8 [onnx]\n",
      "   -------------------- ------------------- 4/8 [onnx]\n",
      "   -------------------- ------------------- 4/8 [onnx]\n",
      "   -------------------- ------------------- 4/8 [onnx]\n",
      "   -------------------- ------------------- 4/8 [onnx]\n",
      "   -------------------- ------------------- 4/8 [onnx]\n",
      "   -------------------- ------------------- 4/8 [onnx]\n",
      "   -------------------- ------------------- 4/8 [onnx]\n",
      "   -------------------- ------------------- 4/8 [onnx]\n",
      "   -------------------- ------------------- 4/8 [onnx]\n",
      "   -------------------- ------------------- 4/8 [onnx]\n",
      "   -------------------- ------------------- 4/8 [onnx]\n",
      "   -------------------- ------------------- 4/8 [onnx]\n",
      "   -------------------- ------------------- 4/8 [onnx]\n",
      "   -------------------- ------------------- 4/8 [onnx]\n",
      "   -------------------- ------------------- 4/8 [onnx]\n",
      "   -------------------- ------------------- 4/8 [onnx]\n",
      "   -------------------- ------------------- 4/8 [onnx]\n",
      "   -------------------- ------------------- 4/8 [onnx]\n",
      "   -------------------- ------------------- 4/8 [onnx]\n",
      "   -------------------- ------------------- 4/8 [onnx]\n",
      "   -------------------- ------------------- 4/8 [onnx]\n",
      "   -------------------- ------------------- 4/8 [onnx]\n",
      "   -------------------- ------------------- 4/8 [onnx]\n",
      "   -------------------- ------------------- 4/8 [onnx]\n",
      "   -------------------- ------------------- 4/8 [onnx]\n",
      "   -------------------- ------------------- 4/8 [onnx]\n",
      "   -------------------- ------------------- 4/8 [onnx]\n",
      "   -------------------- ------------------- 4/8 [onnx]\n",
      "   -------------------- ------------------- 4/8 [onnx]\n",
      "   -------------------- ------------------- 4/8 [onnx]\n",
      "   -------------------- ------------------- 4/8 [onnx]\n",
      "   -------------------- ------------------- 4/8 [onnx]\n",
      "   -------------------- ------------------- 4/8 [onnx]\n",
      "   -------------------- ------------------- 4/8 [onnx]\n",
      "   -------------------- ------------------- 4/8 [onnx]\n",
      "   -------------------- ------------------- 4/8 [onnx]\n",
      "   -------------------- ------------------- 4/8 [onnx]\n",
      "   -------------------- ------------------- 4/8 [onnx]\n",
      "   -------------------- ------------------- 4/8 [onnx]\n",
      "   -------------------- ------------------- 4/8 [onnx]\n",
      "   -------------------- ------------------- 4/8 [onnx]\n",
      "   -------------------- ------------------- 4/8 [onnx]\n",
      "   -------------------- ------------------- 4/8 [onnx]\n",
      "   -------------------- ------------------- 4/8 [onnx]\n",
      "   -------------------- ------------------- 4/8 [onnx]\n",
      "   -------------------- ------------------- 4/8 [onnx]\n",
      "   -------------------- ------------------- 4/8 [onnx]\n",
      "   -------------------- ------------------- 4/8 [onnx]\n",
      "   -------------------- ------------------- 4/8 [onnx]\n",
      "   -------------------- ------------------- 4/8 [onnx]\n",
      "   -------------------- ------------------- 4/8 [onnx]\n",
      "   -------------------- ------------------- 4/8 [onnx]\n",
      "   -------------------- ------------------- 4/8 [onnx]\n",
      "   -------------------- ------------------- 4/8 [onnx]\n",
      "   -------------------- ------------------- 4/8 [onnx]\n",
      "   -------------------- ------------------- 4/8 [onnx]\n",
      "   -------------------- ------------------- 4/8 [onnx]\n",
      "   -------------------- ------------------- 4/8 [onnx]\n",
      "   -------------------- ------------------- 4/8 [onnx]\n",
      "   -------------------- ------------------- 4/8 [onnx]\n",
      "   -------------------- ------------------- 4/8 [onnx]\n",
      "   -------------------- ------------------- 4/8 [onnx]\n",
      "   -------------------- ------------------- 4/8 [onnx]\n",
      "   -------------------- ------------------- 4/8 [onnx]\n",
      "   -------------------- ------------------- 4/8 [onnx]\n",
      "   -------------------- ------------------- 4/8 [onnx]\n",
      "   -------------------- ------------------- 4/8 [onnx]\n",
      "   -------------------- ------------------- 4/8 [onnx]\n",
      "   -------------------- ------------------- 4/8 [onnx]\n",
      "   -------------------- ------------------- 4/8 [onnx]\n",
      "   -------------------- ------------------- 4/8 [onnx]\n",
      "   -------------------- ------------------- 4/8 [onnx]\n",
      "   -------------------- ------------------- 4/8 [onnx]\n",
      "   -------------------- ------------------- 4/8 [onnx]\n",
      "   -------------------- ------------------- 4/8 [onnx]\n",
      "   -------------------- ------------------- 4/8 [onnx]\n",
      "   -------------------- ------------------- 4/8 [onnx]\n",
      "   -------------------- ------------------- 4/8 [onnx]\n",
      "   -------------------- ------------------- 4/8 [onnx]\n",
      "   -------------------- ------------------- 4/8 [onnx]\n",
      "   -------------------- ------------------- 4/8 [onnx]\n",
      "   -------------------- ------------------- 4/8 [onnx]\n",
      "   -------------------- ------------------- 4/8 [onnx]\n",
      "   -------------------- ------------------- 4/8 [onnx]\n",
      "   -------------------- ------------------- 4/8 [onnx]\n",
      "   -------------------- ------------------- 4/8 [onnx]\n",
      "   -------------------- ------------------- 4/8 [onnx]\n",
      "   -------------------- ------------------- 4/8 [onnx]\n",
      "   -------------------- ------------------- 4/8 [onnx]\n",
      "   -------------------- ------------------- 4/8 [onnx]\n",
      "   -------------------- ------------------- 4/8 [onnx]\n",
      "   -------------------- ------------------- 4/8 [onnx]\n",
      "   -------------------- ------------------- 4/8 [onnx]\n",
      "   -------------------- ------------------- 4/8 [onnx]\n",
      "   -------------------- ------------------- 4/8 [onnx]\n",
      "   -------------------- ------------------- 4/8 [onnx]\n",
      "   -------------------- ------------------- 4/8 [onnx]\n",
      "   -------------------- ------------------- 4/8 [onnx]\n",
      "   -------------------- ------------------- 4/8 [onnx]\n",
      "   -------------------- ------------------- 4/8 [onnx]\n",
      "   -------------------- ------------------- 4/8 [onnx]\n",
      "   -------------------- ------------------- 4/8 [onnx]\n",
      "   -------------------- ------------------- 4/8 [onnx]\n",
      "   -------------------- ------------------- 4/8 [onnx]\n",
      "   -------------------- ------------------- 4/8 [onnx]\n",
      "   -------------------- ------------------- 4/8 [onnx]\n",
      "   -------------------- ------------------- 4/8 [onnx]\n",
      "   -------------------- ------------------- 4/8 [onnx]\n",
      "   -------------------- ------------------- 4/8 [onnx]\n",
      "   -------------------- ------------------- 4/8 [onnx]\n",
      "   -------------------- ------------------- 4/8 [onnx]\n",
      "   -------------------- ------------------- 4/8 [onnx]\n",
      "   -------------------- ------------------- 4/8 [onnx]\n",
      "   -------------------- ------------------- 4/8 [onnx]\n",
      "   -------------------- ------------------- 4/8 [onnx]\n",
      "   -------------------- ------------------- 4/8 [onnx]\n",
      "   -------------------- ------------------- 4/8 [onnx]\n",
      "   -------------------- ------------------- 4/8 [onnx]\n",
      "   -------------------- ------------------- 4/8 [onnx]\n",
      "   -------------------- ------------------- 4/8 [onnx]\n",
      "   -------------------- ------------------- 4/8 [onnx]\n",
      "   -------------------- ------------------- 4/8 [onnx]\n",
      "   -------------------- ------------------- 4/8 [onnx]\n",
      "   -------------------- ------------------- 4/8 [onnx]\n",
      "   -------------------- ------------------- 4/8 [onnx]\n",
      "   ------------------------- -------------- 5/8 [humanfriendly]\n",
      "   ------------------------- -------------- 5/8 [humanfriendly]\n",
      "   ------------------------- -------------- 5/8 [humanfriendly]\n",
      "   ------------------------- -------------- 5/8 [humanfriendly]\n",
      "   ------------------------- -------------- 5/8 [humanfriendly]\n",
      "   ------------------------- -------------- 5/8 [humanfriendly]\n",
      "   ------------------------------ --------- 6/8 [coloredlogs]\n",
      "   ------------------------------ --------- 6/8 [coloredlogs]\n",
      "   ------------------------------ --------- 6/8 [coloredlogs]\n",
      "   ------------------------------ --------- 6/8 [coloredlogs]\n",
      "   ----------------------------------- ---- 7/8 [onnxruntime]\n",
      "   ----------------------------------- ---- 7/8 [onnxruntime]\n",
      "   ----------------------------------- ---- 7/8 [onnxruntime]\n",
      "   ----------------------------------- ---- 7/8 [onnxruntime]\n",
      "   ----------------------------------- ---- 7/8 [onnxruntime]\n",
      "   ----------------------------------- ---- 7/8 [onnxruntime]\n",
      "   ----------------------------------- ---- 7/8 [onnxruntime]\n",
      "   ----------------------------------- ---- 7/8 [onnxruntime]\n",
      "   ----------------------------------- ---- 7/8 [onnxruntime]\n",
      "   ----------------------------------- ---- 7/8 [onnxruntime]\n",
      "   ----------------------------------- ---- 7/8 [onnxruntime]\n",
      "   ----------------------------------- ---- 7/8 [onnxruntime]\n",
      "   ----------------------------------- ---- 7/8 [onnxruntime]\n",
      "   ----------------------------------- ---- 7/8 [onnxruntime]\n",
      "   ----------------------------------- ---- 7/8 [onnxruntime]\n",
      "   ----------------------------------- ---- 7/8 [onnxruntime]\n",
      "   ----------------------------------- ---- 7/8 [onnxruntime]\n",
      "   ----------------------------------- ---- 7/8 [onnxruntime]\n",
      "   ----------------------------------- ---- 7/8 [onnxruntime]\n",
      "   ----------------------------------- ---- 7/8 [onnxruntime]\n",
      "   ----------------------------------- ---- 7/8 [onnxruntime]\n",
      "   ----------------------------------- ---- 7/8 [onnxruntime]\n",
      "   ----------------------------------- ---- 7/8 [onnxruntime]\n",
      "   ----------------------------------- ---- 7/8 [onnxruntime]\n",
      "   ----------------------------------- ---- 7/8 [onnxruntime]\n",
      "   ----------------------------------- ---- 7/8 [onnxruntime]\n",
      "   ----------------------------------- ---- 7/8 [onnxruntime]\n",
      "   ----------------------------------- ---- 7/8 [onnxruntime]\n",
      "   ----------------------------------- ---- 7/8 [onnxruntime]\n",
      "   ----------------------------------- ---- 7/8 [onnxruntime]\n",
      "   ----------------------------------- ---- 7/8 [onnxruntime]\n",
      "   ----------------------------------- ---- 7/8 [onnxruntime]\n",
      "   ----------------------------------- ---- 7/8 [onnxruntime]\n",
      "   ----------------------------------- ---- 7/8 [onnxruntime]\n",
      "   ----------------------------------- ---- 7/8 [onnxruntime]\n",
      "   ----------------------------------- ---- 7/8 [onnxruntime]\n",
      "   ----------------------------------- ---- 7/8 [onnxruntime]\n",
      "   ----------------------------------- ---- 7/8 [onnxruntime]\n",
      "   ----------------------------------- ---- 7/8 [onnxruntime]\n",
      "   ----------------------------------- ---- 7/8 [onnxruntime]\n",
      "   ----------------------------------- ---- 7/8 [onnxruntime]\n",
      "   ----------------------------------- ---- 7/8 [onnxruntime]\n",
      "   ----------------------------------- ---- 7/8 [onnxruntime]\n",
      "   ----------------------------------- ---- 7/8 [onnxruntime]\n",
      "   ----------------------------------- ---- 7/8 [onnxruntime]\n",
      "   ----------------------------------- ---- 7/8 [onnxruntime]\n",
      "   ----------------------------------- ---- 7/8 [onnxruntime]\n",
      "   ----------------------------------- ---- 7/8 [onnxruntime]\n",
      "   ----------------------------------- ---- 7/8 [onnxruntime]\n",
      "   ----------------------------------- ---- 7/8 [onnxruntime]\n",
      "   ----------------------------------- ---- 7/8 [onnxruntime]\n",
      "   ----------------------------------- ---- 7/8 [onnxruntime]\n",
      "   ----------------------------------- ---- 7/8 [onnxruntime]\n",
      "   ----------------------------------- ---- 7/8 [onnxruntime]\n",
      "   ----------------------------------- ---- 7/8 [onnxruntime]\n",
      "   ----------------------------------- ---- 7/8 [onnxruntime]\n",
      "   ----------------------------------- ---- 7/8 [onnxruntime]\n",
      "   ----------------------------------- ---- 7/8 [onnxruntime]\n",
      "   ----------------------------------- ---- 7/8 [onnxruntime]\n",
      "   ----------------------------------- ---- 7/8 [onnxruntime]\n",
      "   ----------------------------------- ---- 7/8 [onnxruntime]\n",
      "   ----------------------------------- ---- 7/8 [onnxruntime]\n",
      "   ----------------------------------- ---- 7/8 [onnxruntime]\n",
      "   ----------------------------------- ---- 7/8 [onnxruntime]\n",
      "   ----------------------------------- ---- 7/8 [onnxruntime]\n",
      "   ----------------------------------- ---- 7/8 [onnxruntime]\n",
      "   ----------------------------------- ---- 7/8 [onnxruntime]\n",
      "   ----------------------------------- ---- 7/8 [onnxruntime]\n",
      "   ----------------------------------- ---- 7/8 [onnxruntime]\n",
      "   ----------------------------------- ---- 7/8 [onnxruntime]\n",
      "   ---------------------------------------- 8/8 [onnxruntime]\n",
      "\n",
      "Successfully installed coloredlogs-15.0.1 flatbuffers-25.2.10 humanfriendly-10.0 ml_dtypes-0.5.3 onnx-1.19.0 onnxruntime-1.22.1 protobuf-6.32.0 pyreadline3-3.5.4\n",
      "Note: you may need to restart the kernel to use updated packages.\n"
     ]
    }
   ],
   "source": [
    "%pip install onnx onnxruntime\n"
   ]
  },
  {
   "cell_type": "code",
   "execution_count": 64,
   "id": "d1883c36",
   "metadata": {},
   "outputs": [
    {
     "name": "stderr",
     "output_type": "stream",
     "text": [
      "C:\\Users\\PhilemonGyamfi\\AppData\\Local\\Temp\\ipykernel_70932\\327419594.py:14: DeprecationWarning: You are using the legacy TorchScript-based ONNX export. Starting in PyTorch 2.9, the new torch.export-based ONNX exporter will be the default. To switch now, set dynamo=True in torch.onnx.export. This new exporter supports features like exporting LLMs with DynamicCache. We encourage you to try it and share feedback to help improve the experience. Learn more about the new export logic: https://pytorch.org/docs/stable/onnx_dynamo.html. For exporting control flow: https://pytorch.org/tutorials/beginner/onnx/export_control_flow_model_to_onnx_tutorial.html.\n",
      "  torch.onnx.export(\n"
     ]
    },
    {
     "name": "stdout",
     "output_type": "stream",
     "text": [
      "✅ Model exported to legalbert.onnx with dynamic axes\n"
     ]
    }
   ],
   "source": [
    "import torch\n",
    "from transformers import AutoModelForSequenceClassification, AutoTokenizer\n",
    "\n",
    "MODEL_NAME = \"../datacleaning/legalbert-contracts\"\n",
    "tokenizer = AutoTokenizer.from_pretrained(MODEL_NAME)\n",
    "model = AutoModelForSequenceClassification.from_pretrained(MODEL_NAME)\n",
    "model.eval()\n",
    "\n",
    "# Dummy input\n",
    "sample_text = \"This is a sample contract.\"\n",
    "inputs = tokenizer(sample_text, return_tensors=\"pt\", truncation=True, padding=True, max_length=512)\n",
    "\n",
    "# Export with dynamic axes\n",
    "torch.onnx.export(\n",
    "    model,\n",
    "    (inputs['input_ids'],),\n",
    "    \"legalbert.onnx\",\n",
    "    input_names=['input_ids'],\n",
    "    output_names=['logits'],\n",
    "    opset_version=14,\n",
    "    dynamic_axes={\n",
    "        'input_ids': {0: 'batch_size', 1: 'seq_len'},\n",
    "        'logits': {0: 'batch_size'}\n",
    "    }\n",
    ")\n",
    "print(\"✅ Model exported to legalbert.onnx with dynamic axes\")\n"
   ]
  }
 ],
 "metadata": {
  "kernelspec": {
   "display_name": "Python 3",
   "language": "python",
   "name": "python3"
  },
  "language_info": {
   "codemirror_mode": {
    "name": "ipython",
    "version": 3
   },
   "file_extension": ".py",
   "mimetype": "text/x-python",
   "name": "python",
   "nbconvert_exporter": "python",
   "pygments_lexer": "ipython3",
   "version": "3.13.7"
  }
 },
 "nbformat": 4,
 "nbformat_minor": 5
}
